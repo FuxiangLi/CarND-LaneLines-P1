{
 "cells": [
  {
   "cell_type": "markdown",
   "metadata": {
    "deletable": true,
    "editable": true
   },
   "source": [
    "# Project #1 - Finding the Lane Lines on the Road"
   ]
  },
  {
   "cell_type": "markdown",
   "metadata": {
    "deletable": true,
    "editable": true
   },
   "source": [
    "## We need to import the initial packages"
   ]
  },
  {
   "cell_type": "code",
   "execution_count": 154,
   "metadata": {
    "collapsed": false,
    "deletable": true,
    "editable": true
   },
   "outputs": [],
   "source": [
    "#importing some useful packages\n",
    "import matplotlib.pyplot as plt\n",
    "import matplotlib.image as mpimg\n",
    "import numpy as np\n",
    "import cv2\n",
    "import os\n",
    "import random\n",
    "%matplotlib inline\n",
    "\n",
    "\n",
    "# Import everything needed to edit/save/watch video clips\n",
    "from moviepy.editor import VideoFileClip\n",
    "from IPython.display import display, HTML"
   ]
  },
  {
   "cell_type": "markdown",
   "metadata": {
    "deletable": true,
    "editable": true
   },
   "source": [
    "## Create helper functions\n",
    "Provided by the (project seed)[https://github.com/udacity/CarND-LaneLines-P1/blob/master/P1.ipynb]"
   ]
  },
  {
   "cell_type": "code",
   "execution_count": 191,
   "metadata": {
    "collapsed": false,
    "deletable": true,
    "editable": true
   },
   "outputs": [],
   "source": [
    "import math\n",
    "\n",
    "def grayscale(img):\n",
    "    \"\"\"Applies the Grayscale transform\n",
    "    This will return an image with only one color channel\n",
    "    but NOTE: to see the returned image as grayscale\n",
    "    (assuming your grayscaled image is called 'gray')\n",
    "    you should call plt.imshow(gray, cmap='gray')\"\"\"\n",
    "    #return cv2.cvtColor(img, cv2.COLOR_RGB2GRAY)\n",
    "    # Or use BGR2GRAY if you read an image with cv2.imread()\n",
    "    return cv2.cvtColor(img, cv2.COLOR_BGR2GRAY)\n",
    "    \n",
    "def canny(img, low_threshold, high_threshold):\n",
    "    \"\"\"Applies the Canny transform\"\"\"\n",
    "    return cv2.Canny(img, low_threshold, high_threshold)\n",
    "\n",
    "def gaussian_blur(img, kernel_size):\n",
    "    \"\"\"Applies a Gaussian Noise kernel\"\"\"\n",
    "    return cv2.GaussianBlur(img, (kernel_size, kernel_size), 0)\n",
    "\n",
    "def region_of_interest(img, vertices):\n",
    "    \"\"\"\n",
    "    Applies an image mask.\n",
    "    \n",
    "    Only keeps the region of the image defined by the polygon\n",
    "    formed from `vertices`. The rest of the image is set to black.\n",
    "    \"\"\"\n",
    "    #defining a blank mask to start with\n",
    "    mask = np.zeros_like(img)   \n",
    "    \n",
    "    #defining a 3 channel or 1 channel color to fill the mask with depending on the input image\n",
    "    if len(img.shape) > 2:\n",
    "        channel_count = img.shape[2]  # i.e. 3 or 4 depending on your image\n",
    "        ignore_mask_color = (255,) * channel_count\n",
    "    else:\n",
    "        ignore_mask_color = 255\n",
    "        \n",
    "    #filling pixels inside the polygon defined by \"vertices\" with the fill color    \n",
    "    cv2.fillPoly(mask, vertices, ignore_mask_color)\n",
    "    \n",
    "    #returning the image only where mask pixels are nonzero\n",
    "    masked_image = cv2.bitwise_and(img, mask)\n",
    "    return masked_image\n",
    "\n",
    "def drawLine(img, x, y, color=[255, 0, 0], thickness=2):\n",
    "    \"\"\"\n",
    "    Adjust a line to the points [`x`, `y`] and draws it on the image `img` using `color` and `thickness` for the line.\n",
    "    \"\"\"\n",
    "    if len(x) == 0: \n",
    "        return\n",
    "    \n",
    "    lineParameters = np.polyfit(x, y, 1) \n",
    "    \n",
    "    m = lineParameters[0]\n",
    "    b = lineParameters[1]\n",
    "    \n",
    "    maxY = img.shape[0]\n",
    "    maxX = img.shape[1]\n",
    "    y1 = maxY\n",
    "    x1 = int((y1 - b)/m)\n",
    "    y2 = int((maxY/2)) + 30\n",
    "    x2 = int((y2 - b)/m)\n",
    "    cv2.line(img, (x1, y1), (x2, y2), [255, 0, 0], 4)\n",
    "\n",
    "def draw_lines(img, lines, color=[255, 0, 0], thickness=2):\n",
    "    \"\"\"\n",
    "    NOTE: this is the function you might want to use as a starting point once you want to \n",
    "    average/extrapolate the line segments you detect to map out the full\n",
    "    extent of the lane (going from the result shown in raw-lines-example.mp4\n",
    "    to that shown in P1_example.mp4).  \n",
    "    \n",
    "    Think about things like separating line segments by their \n",
    "    slope ((y2-y1)/(x2-x1)) to decide which segments are part of the left\n",
    "    line vs. the right line.  Then, you can average the position of each of \n",
    "    the lines and extrapolate to the top and bottom of the lane.\n",
    "    \n",
    "    This function draws `lines` with `color` and `thickness`.    \n",
    "    Lines are drawn on the image inplace (mutates the image).\n",
    "    If you want to make the lines semi-transparent, think about combining\n",
    "    this function with the weighted_img() function below\n",
    "    \"\"\"\n",
    "    \n",
    "    leftPointsX = []\n",
    "    leftPointsY = []\n",
    "    rightPointsX = []\n",
    "    rightPointsY = []\n",
    "\n",
    "    for line in lines:\n",
    "        for x1,y1,x2,y2 in line:\n",
    "            m = (y1 - y2)/(x1 - x2)\n",
    "            if m < 0:\n",
    "                leftPointsX.append(x1)\n",
    "                leftPointsY.append(y1)\n",
    "                leftPointsX.append(x2)\n",
    "                leftPointsY.append(y2)\n",
    "            else:\n",
    "                rightPointsX.append(x1)\n",
    "                rightPointsY.append(y1)\n",
    "                rightPointsX.append(x2)\n",
    "                rightPointsY.append(y2)\n",
    "\n",
    "    drawLine(img, leftPointsX, leftPointsY, color, thickness)\n",
    "        \n",
    "    drawLine(img, rightPointsX, rightPointsY, color, thickness)\n",
    "\n",
    "def hough_lines(img, rho, theta, threshold, min_line_len, max_line_gap):\n",
    "    \"\"\"\n",
    "    `img` should be the output of a Canny transform.\n",
    "        \n",
    "    Returns an image with hough lines drawn.\n",
    "    \"\"\"\n",
    "    lines = cv2.HoughLinesP(img, rho, theta, threshold, np.array([]), minLineLength=min_line_len, maxLineGap=max_line_gap)\n",
    "    line_img = np.zeros((img.shape[0], img.shape[1], 3), dtype=np.uint8)\n",
    "    draw_lines(line_img, lines)\n",
    "    return line_img\n",
    "\n",
    "# Python 3 has support for cool math symbols.\n",
    "\n",
    "def weighted_img(img, initial_img, α=0.8, β=1., λ=0.):\n",
    "    \"\"\"\n",
    "    `img` is the output of the hough_lines(), An image with lines drawn on it.\n",
    "    Should be a blank image (all black) with lines drawn on it.\n",
    "    \n",
    "    `initial_img` should be the image before any processing.\n",
    "    \n",
    "    The result image is computed as follows:\n",
    "    \n",
    "    initial_img * α + img * β + λ\n",
    "    NOTE: initial_img and img must be the same shape!\n",
    "    \"\"\"\n",
    "    return cv2.addWeighted(initial_img, α, img, β, λ)"
   ]
  },
  {
   "cell_type": "code",
   "execution_count": 192,
   "metadata": {
    "collapsed": false,
    "deletable": true,
    "editable": true
   },
   "outputs": [],
   "source": [
    "def showImagesInHtml(images, dir):\n",
    "    \"\"\"\n",
    "    Shows the list of `images` names on the directory `dir` as HTML embeded on the page.\n",
    "    \"\"\"\n",
    "    randomNumber = random.randint(1, 100000)\n",
    "    buffer = \"<div>\"\n",
    "    for img in images:\n",
    "        imgSource = dir + '/' + img + \"?\" + str(randomNumber)\n",
    "        buffer += \"\"\"<img src=\"{0}\" width=\"300\" height=\"110\" style=\"float:left; margin:1px\"/>\"\"\".format(imgSource)\n",
    "    buffer += \"</div>\"\n",
    "    display(HTML(buffer))\n",
    "\n",
    "def saveImages(images, outputDir, imageNames, isGray=0):\n",
    "    \"\"\"\n",
    "    Writes the `images` to the `outputDir` directory using the `imagesNames`.\n",
    "    It creates the output directory if it doesn't exists.\n",
    "    \n",
    "    Example:\n",
    "    \n",
    "    saveImages([img1], 'tempDir', ['myImage.jpg'])\n",
    "    \n",
    "    Will save the image on the path: tempDir/myImage.jpg\n",
    "    \n",
    "    \"\"\"\n",
    "    if not os.path.exists(outputDir):\n",
    "        os.makedirs(outputDir)\n",
    "        \n",
    "    zipped = list(map(lambda imgZip: (outputDir + '/' + imgZip[1], imgZip[0]), zip(images, imageNames)))\n",
    "    for imgPair in zipped:\n",
    "        if isGray:\n",
    "            plt.imsave(imgPair[0], imgPair[1], cmap='gray')\n",
    "        else :\n",
    "            plt.imsave(imgPair[0], imgPair[1])\n",
    "        \n",
    "def doSaveAndDisplay(images, outputDir, imageNames, somethingToDo, isGray=0):\n",
    "    \"\"\"\n",
    "    Applies the lambda `somethingToDo` to `images`, safe the results at the directory `outputDir`,\n",
    "    and render the results in html.\n",
    "    \n",
    "    It returns the output images.\n",
    "    \"\"\"\n",
    "    outputImages = list(map(somethingToDo, images))\n",
    "    saveImages(outputImages, outputDir, imageNames, isGray)\n",
    "    showImagesInHtml(imageNames, outputDir)\n",
    "    return outputImages"
   ]
  },
  {
   "cell_type": "markdown",
   "metadata": {
    "deletable": true,
    "editable": true
   },
   "source": [
    "# Loading test images"
   ]
  },
  {
   "cell_type": "code",
   "execution_count": 193,
   "metadata": {
    "collapsed": false,
    "deletable": true,
    "editable": true
   },
   "outputs": [
    {
     "data": {
      "text/html": [
       "<div><img src=\"test_images/solidWhiteCurve.jpg?28201\" width=\"300\" height=\"110\" style=\"float:left; margin:1px\"/><img src=\"test_images/solidWhiteRight.jpg?28201\" width=\"300\" height=\"110\" style=\"float:left; margin:1px\"/><img src=\"test_images/solidYellowCurve.jpg?28201\" width=\"300\" height=\"110\" style=\"float:left; margin:1px\"/><img src=\"test_images/solidYellowCurve2.jpg?28201\" width=\"300\" height=\"110\" style=\"float:left; margin:1px\"/><img src=\"test_images/solidYellowLeft.jpg?28201\" width=\"300\" height=\"110\" style=\"float:left; margin:1px\"/><img src=\"test_images/whiteCarLaneSwitch.jpg?28201\" width=\"300\" height=\"110\" style=\"float:left; margin:1px\"/></div>"
      ],
      "text/plain": [
       "<IPython.core.display.HTML object>"
      ]
     },
     "metadata": {},
     "output_type": "display_data"
    }
   ],
   "source": [
    "testImagesDir = 'test_images'\n",
    "testImageNames = os.listdir(testImagesDir)\n",
    "showImagesInHtml(testImageNames, testImagesDir)\n",
    "testImages = list(map(lambda img: plt.imread(testImagesDir + '/' + img), testImageNames))"
   ]
  },
  {
   "cell_type": "markdown",
   "metadata": {
    "deletable": true,
    "editable": true
   },
   "source": [
    "# Converting images into gray scale"
   ]
  },
  {
   "cell_type": "code",
   "execution_count": 194,
   "metadata": {
    "collapsed": false,
    "deletable": true,
    "editable": true
   },
   "outputs": [
    {
     "data": {
      "text/html": [
       "<div><img src=\"test_images_gray/solidWhiteCurve.jpg?79441\" width=\"300\" height=\"110\" style=\"float:left; margin:1px\"/><img src=\"test_images_gray/solidWhiteRight.jpg?79441\" width=\"300\" height=\"110\" style=\"float:left; margin:1px\"/><img src=\"test_images_gray/solidYellowCurve.jpg?79441\" width=\"300\" height=\"110\" style=\"float:left; margin:1px\"/><img src=\"test_images_gray/solidYellowCurve2.jpg?79441\" width=\"300\" height=\"110\" style=\"float:left; margin:1px\"/><img src=\"test_images_gray/solidYellowLeft.jpg?79441\" width=\"300\" height=\"110\" style=\"float:left; margin:1px\"/><img src=\"test_images_gray/whiteCarLaneSwitch.jpg?79441\" width=\"300\" height=\"110\" style=\"float:left; margin:1px\"/></div>"
      ],
      "text/plain": [
       "<IPython.core.display.HTML object>"
      ]
     },
     "metadata": {},
     "output_type": "display_data"
    }
   ],
   "source": [
    "def grayAction(img):\n",
    "    return grayscale(img)\n",
    "\n",
    "testImagesGray = doSaveAndDisplay(testImages, 'test_images_gray', testImageNames, grayAction, 1)"
   ]
  },
  {
   "cell_type": "markdown",
   "metadata": {
    "deletable": true,
    "editable": true
   },
   "source": [
    "# Applying Gaussian smoothing"
   ]
  },
  {
   "cell_type": "code",
   "execution_count": 195,
   "metadata": {
    "collapsed": false,
    "deletable": true,
    "editable": true
   },
   "outputs": [
    {
     "data": {
      "text/html": [
       "<div><img src=\"test_images_blur/solidWhiteCurve.jpg?42010\" width=\"300\" height=\"110\" style=\"float:left; margin:1px\"/><img src=\"test_images_blur/solidWhiteRight.jpg?42010\" width=\"300\" height=\"110\" style=\"float:left; margin:1px\"/><img src=\"test_images_blur/solidYellowCurve.jpg?42010\" width=\"300\" height=\"110\" style=\"float:left; margin:1px\"/><img src=\"test_images_blur/solidYellowCurve2.jpg?42010\" width=\"300\" height=\"110\" style=\"float:left; margin:1px\"/><img src=\"test_images_blur/solidYellowLeft.jpg?42010\" width=\"300\" height=\"110\" style=\"float:left; margin:1px\"/><img src=\"test_images_blur/whiteCarLaneSwitch.jpg?42010\" width=\"300\" height=\"110\" style=\"float:left; margin:1px\"/></div>"
      ],
      "text/plain": [
       "<IPython.core.display.HTML object>"
      ]
     },
     "metadata": {},
     "output_type": "display_data"
    }
   ],
   "source": [
    "blur_kernel_size = 15\n",
    "blurAction = lambda img:gaussian_blur(img, blur_kernel_size)\n",
    "\n",
    "testImagesBlur = doSaveAndDisplay(testImagesGray, 'test_images_blur', testImageNames, blurAction, 1)"
   ]
  },
  {
   "cell_type": "markdown",
   "metadata": {
    "deletable": true,
    "editable": true
   },
   "source": [
    "# Applying Canny transform"
   ]
  },
  {
   "cell_type": "code",
   "execution_count": 196,
   "metadata": {
    "collapsed": false,
    "deletable": true,
    "editable": true
   },
   "outputs": [
    {
     "data": {
      "text/html": [
       "<div><img src=\"test_images_canny/solidWhiteCurve.jpg?87623\" width=\"300\" height=\"110\" style=\"float:left; margin:1px\"/><img src=\"test_images_canny/solidWhiteRight.jpg?87623\" width=\"300\" height=\"110\" style=\"float:left; margin:1px\"/><img src=\"test_images_canny/solidYellowCurve.jpg?87623\" width=\"300\" height=\"110\" style=\"float:left; margin:1px\"/><img src=\"test_images_canny/solidYellowCurve2.jpg?87623\" width=\"300\" height=\"110\" style=\"float:left; margin:1px\"/><img src=\"test_images_canny/solidYellowLeft.jpg?87623\" width=\"300\" height=\"110\" style=\"float:left; margin:1px\"/><img src=\"test_images_canny/whiteCarLaneSwitch.jpg?87623\" width=\"300\" height=\"110\" style=\"float:left; margin:1px\"/></div>"
      ],
      "text/plain": [
       "<IPython.core.display.HTML object>"
      ]
     },
     "metadata": {},
     "output_type": "display_data"
    }
   ],
   "source": [
    "canny_low_threshold = 20\n",
    "canny_high_threshold = 100\n",
    "cannyAction = lambda img:canny(img, canny_low_threshold, canny_high_threshold)\n",
    "testImagesCanny = doSaveAndDisplay(testImagesBlur, 'test_images_canny', testImageNames, cannyAction)"
   ]
  },
  {
   "cell_type": "markdown",
   "metadata": {
    "deletable": true,
    "editable": true
   },
   "source": [
    "# Applying Region of Interest"
   ]
  },
  {
   "cell_type": "code",
   "execution_count": 197,
   "metadata": {
    "collapsed": false,
    "deletable": true,
    "editable": true
   },
   "outputs": [
    {
     "data": {
      "text/html": [
       "<div><img src=\"test_images_region/solidWhiteCurve.jpg?11652\" width=\"300\" height=\"110\" style=\"float:left; margin:1px\"/><img src=\"test_images_region/solidWhiteRight.jpg?11652\" width=\"300\" height=\"110\" style=\"float:left; margin:1px\"/><img src=\"test_images_region/solidYellowCurve.jpg?11652\" width=\"300\" height=\"110\" style=\"float:left; margin:1px\"/><img src=\"test_images_region/solidYellowCurve2.jpg?11652\" width=\"300\" height=\"110\" style=\"float:left; margin:1px\"/><img src=\"test_images_region/solidYellowLeft.jpg?11652\" width=\"300\" height=\"110\" style=\"float:left; margin:1px\"/><img src=\"test_images_region/whiteCarLaneSwitch.jpg?11652\" width=\"300\" height=\"110\" style=\"float:left; margin:1px\"/></div>"
      ],
      "text/plain": [
       "<IPython.core.display.HTML object>"
      ]
     },
     "metadata": {},
     "output_type": "display_data"
    }
   ],
   "source": [
    "def maskAction(img):\n",
    "    ysize = img.shape[0]\n",
    "    xsize = img.shape[1]\n",
    "    region = np.array([ [0, ysize], [xsize/2,(ysize/2)+ 10], [xsize,ysize] ], np.int32)\n",
    "    return region_of_interest(img, [region])\n",
    "\n",
    "testImagesMasked = doSaveAndDisplay(testImagesCanny, 'test_images_region', testImageNames, maskAction)"
   ]
  },
  {
   "cell_type": "markdown",
   "metadata": {
    "deletable": true,
    "editable": true
   },
   "source": [
    "# Applying Hough transform"
   ]
  },
  {
   "cell_type": "code",
   "execution_count": 198,
   "metadata": {
    "collapsed": false,
    "deletable": true,
    "editable": true
   },
   "outputs": [
    {
     "data": {
      "text/html": [
       "<div><img src=\"test_images_hough/solidWhiteCurve.jpg?80094\" width=\"300\" height=\"110\" style=\"float:left; margin:1px\"/><img src=\"test_images_hough/solidWhiteRight.jpg?80094\" width=\"300\" height=\"110\" style=\"float:left; margin:1px\"/><img src=\"test_images_hough/solidYellowCurve.jpg?80094\" width=\"300\" height=\"110\" style=\"float:left; margin:1px\"/><img src=\"test_images_hough/solidYellowCurve2.jpg?80094\" width=\"300\" height=\"110\" style=\"float:left; margin:1px\"/><img src=\"test_images_hough/solidYellowLeft.jpg?80094\" width=\"300\" height=\"110\" style=\"float:left; margin:1px\"/><img src=\"test_images_hough/whiteCarLaneSwitch.jpg?80094\" width=\"300\" height=\"110\" style=\"float:left; margin:1px\"/></div>"
      ],
      "text/plain": [
       "<IPython.core.display.HTML object>"
      ]
     },
     "metadata": {},
     "output_type": "display_data"
    }
   ],
   "source": [
    "rho = 1 # distance resolution in pixels of the Hough grid\n",
    "theta = np.pi/180 # angular resolution in radians of the Hough grid\n",
    "threshold = 10     # minimum number of votes (intersections in Hough grid cell)\n",
    "min_line_length = 20 #minimum number of pixels making up a line\n",
    "max_line_gap = 1    # maximum gap in pixels between connectable line segments\n",
    "\n",
    "houghAction = lambda img: hough_lines(img, rho, theta, threshold, min_line_length, max_line_gap)\n",
    "\n",
    "testImagesLines = doSaveAndDisplay(testImagesMasked, 'test_images_hough', testImageNames, houghAction)\n"
   ]
  },
  {
   "cell_type": "markdown",
   "metadata": {
    "deletable": true,
    "editable": true
   },
   "source": [
    "# Merging original image with lines"
   ]
  },
  {
   "cell_type": "code",
   "execution_count": 199,
   "metadata": {
    "collapsed": false,
    "deletable": true,
    "editable": true
   },
   "outputs": [
    {
     "data": {
      "text/html": [
       "<div><img src=\"test_images_merged/solidWhiteCurve.jpg?89149\" width=\"300\" height=\"110\" style=\"float:left; margin:1px\"/><img src=\"test_images_merged/solidWhiteRight.jpg?89149\" width=\"300\" height=\"110\" style=\"float:left; margin:1px\"/><img src=\"test_images_merged/solidYellowCurve.jpg?89149\" width=\"300\" height=\"110\" style=\"float:left; margin:1px\"/><img src=\"test_images_merged/solidYellowCurve2.jpg?89149\" width=\"300\" height=\"110\" style=\"float:left; margin:1px\"/><img src=\"test_images_merged/solidYellowLeft.jpg?89149\" width=\"300\" height=\"110\" style=\"float:left; margin:1px\"/><img src=\"test_images_merged/whiteCarLaneSwitch.jpg?89149\" width=\"300\" height=\"110\" style=\"float:left; margin:1px\"/></div>"
      ],
      "text/plain": [
       "<IPython.core.display.HTML object>"
      ]
     },
     "metadata": {},
     "output_type": "display_data"
    }
   ],
   "source": [
    "testImagesMergeTemp = list(map(lambda imgs: weighted_img(imgs[0], imgs[1]), zip(testImages,testImagesLines) ))\n",
    "testImagesMerged = doSaveAndDisplay(testImagesMergeTemp, 'test_images_merged', testImageNames, lambda img: img)"
   ]
  },
  {
   "cell_type": "markdown",
   "metadata": {
    "collapsed": false,
    "deletable": true,
    "editable": true
   },
   "source": [
    "# Videos test"
   ]
  },
  {
   "cell_type": "code",
   "execution_count": 200,
   "metadata": {
    "collapsed": true,
    "deletable": true,
    "editable": true
   },
   "outputs": [],
   "source": [
    "# Import everything needed to edit/save/watch video clips\n",
    "from moviepy.editor import VideoFileClip\n",
    "from IPython.display import HTML"
   ]
  },
  {
   "cell_type": "code",
   "execution_count": 205,
   "metadata": {
    "collapsed": false
   },
   "outputs": [],
   "source": [
    "def process_image(image):\n",
    "    # NOTE: The output you return should be a color image (3 channel) for processing video below\n",
    "    # TODO: put your pipeline here,\n",
    "    # you should return the final output (image where lines are drawn on lanes)\n",
    "    \n",
    "    withLines = houghAction( maskAction( cannyAction( blurAction( grayAction(image) ) ) ) )\n",
    "    \n",
    "    return weighted_img(image, withLines)\n",
    "\n",
    "\n",
    "def processVideo(videoFileName, inputVideoDir, outputVideoDir):\n",
    "    \"\"\"\n",
    "    Applys the process_image pipeline to the video `videoFileName` on the directory `inputVideoDir`.\n",
    "    The video is displayed and also saved with the same name on the directory `outputVideoDir`.\n",
    "    \"\"\"\n",
    "    if not os.path.exists(outputVideoDir):\n",
    "        os.makedirs(outputVideoDir)\n",
    "    clip = VideoFileClip(inputVideoDir + '/' + videoFileName)\n",
    "    outputClip = clip.fl_image(process_image)\n",
    "    outVideoFile = outputVideoDir + '/' + videoFileName\n",
    "    outputClip.write_videofile(outVideoFile, audio=False)\n",
    "    display(\n",
    "        HTML(\"\"\"\n",
    "        <video width=\"960\" height=\"540\" controls>\n",
    "          <source src=\"{0}\">\n",
    "        </video>\n",
    "        \"\"\".format(outVideoFile))\n",
    "    )"
   ]
  },
  {
   "cell_type": "markdown",
   "metadata": {},
   "source": [
    "# White lane video test"
   ]
  },
  {
   "cell_type": "code",
   "execution_count": 206,
   "metadata": {
    "collapsed": false
   },
   "outputs": [
    {
     "name": "stdout",
     "output_type": "stream",
     "text": [
      "[MoviePy] >>>> Building video test_videos_output/solidWhiteRight.mp4\n",
      "[MoviePy] Writing video test_videos_output/solidWhiteRight.mp4\n"
     ]
    },
    {
     "name": "stderr",
     "output_type": "stream",
     "text": [
      "\n",
      "\n",
      "  0%|          | 0/222 [00:00<?, ?it/s]\u001b[A\u001b[A\n",
      "\n",
      "  5%|▌         | 12/222 [00:00<00:01, 110.57it/s]\u001b[A\u001b[A\n",
      "\n",
      " 11%|█         | 24/222 [00:00<00:01, 111.70it/s]\u001b[A\u001b[A\n",
      "\n",
      " 16%|█▌        | 36/222 [00:00<00:01, 112.40it/s]\u001b[A\u001b[A\n",
      "\n",
      " 21%|██        | 47/222 [00:00<00:01, 100.70it/s]\u001b[A\u001b[A\n",
      "\n",
      " 25%|██▌       | 56/222 [00:00<00:01, 96.78it/s] \u001b[A\u001b[A\n",
      "\n",
      " 29%|██▉       | 65/222 [00:00<00:01, 88.56it/s]\u001b[A\u001b[A\n",
      "\n",
      " 33%|███▎      | 73/222 [00:00<00:01, 85.40it/s]\u001b[A\u001b[A\n",
      "\n",
      " 37%|███▋      | 82/222 [00:00<00:01, 84.30it/s]\u001b[A\u001b[A\n",
      "\n",
      " 41%|████      | 90/222 [00:00<00:01, 81.87it/s]\u001b[A\u001b[A\n",
      "\n",
      " 45%|████▍     | 99/222 [00:01<00:01, 81.46it/s]\u001b[A\u001b[A\n",
      "\n",
      " 49%|████▊     | 108/222 [00:01<00:01, 80.96it/s]\u001b[A\u001b[A\n",
      "\n",
      " 53%|█████▎    | 117/222 [00:01<00:01, 81.12it/s]\u001b[A\u001b[A\n",
      "\n",
      " 57%|█████▋    | 126/222 [00:01<00:01, 80.34it/s]\u001b[A\u001b[A\n",
      "\n",
      " 61%|██████    | 135/222 [00:01<00:01, 80.72it/s]\u001b[A\u001b[A\n",
      "\n",
      " 65%|██████▍   | 144/222 [00:01<00:00, 79.89it/s]\u001b[A\u001b[A\n",
      "\n",
      " 68%|██████▊   | 152/222 [00:01<00:00, 78.77it/s]\u001b[A\u001b[A\n",
      "\n",
      " 73%|███████▎  | 161/222 [00:01<00:00, 78.33it/s]\u001b[A\u001b[A\n",
      "\n",
      " 76%|███████▌  | 169/222 [00:01<00:00, 77.04it/s]\u001b[A\u001b[A\n",
      "\n",
      " 80%|███████▉  | 177/222 [00:02<00:00, 77.23it/s]\u001b[A\u001b[A\n",
      "\n",
      " 83%|████████▎ | 185/222 [00:02<00:00, 77.45it/s]\u001b[A\u001b[A\n",
      "\n",
      " 87%|████████▋ | 193/222 [00:02<00:00, 78.02it/s]\u001b[A\u001b[A\n",
      "\n",
      " 91%|█████████ | 201/222 [00:02<00:00, 77.84it/s]\u001b[A\u001b[A\n",
      "\n",
      " 94%|█████████▍| 209/222 [00:02<00:00, 77.42it/s]\u001b[A\u001b[A\n",
      "\n",
      " 98%|█████████▊| 217/222 [00:02<00:00, 77.48it/s]\u001b[A\u001b[A\n",
      "\n",
      "100%|█████████▉| 221/222 [00:02<00:00, 82.83it/s]\u001b[A\u001b[A"
     ]
    },
    {
     "name": "stdout",
     "output_type": "stream",
     "text": [
      "[MoviePy] Done.\n",
      "[MoviePy] >>>> Video ready: test_videos_output/solidWhiteRight.mp4 \n",
      "\n"
     ]
    },
    {
     "data": {
      "text/html": [
       "\n",
       "        <video width=\"960\" height=\"540\" controls>\n",
       "          <source src=\"test_videos_output/solidWhiteRight.mp4\">\n",
       "        </video>\n",
       "        "
      ],
      "text/plain": [
       "<IPython.core.display.HTML object>"
      ]
     },
     "metadata": {},
     "output_type": "display_data"
    }
   ],
   "source": [
    "testVideosOutputDir = 'test_videos_output'\n",
    "testVideoInputDir = 'test_videos'\n",
    "processVideo('solidWhiteRight.mp4', testVideoInputDir, testVideosOutputDir)"
   ]
  },
  {
   "cell_type": "markdown",
   "metadata": {},
   "source": [
    "# Yellow lane video test"
   ]
  },
  {
   "cell_type": "code",
   "execution_count": 203,
   "metadata": {
    "collapsed": false
   },
   "outputs": [
    {
     "name": "stdout",
     "output_type": "stream",
     "text": [
      "[MoviePy] >>>> Building video test_videos_output/solidYellowLeft.mp4\n",
      "[MoviePy] Writing video test_videos_output/solidYellowLeft.mp4\n"
     ]
    },
    {
     "name": "stderr",
     "output_type": "stream",
     "text": [
      "\n",
      "\n",
      "  0%|          | 0/682 [00:00<?, ?it/s]\u001b[A\u001b[A\n",
      "\n",
      "  2%|▏         | 11/682 [00:00<00:06, 109.31it/s]\u001b[A\u001b[A\n",
      "\n",
      "  3%|▎         | 23/682 [00:00<00:05, 110.01it/s]\u001b[A\u001b[A\n",
      "\n",
      "  5%|▌         | 35/682 [00:00<00:05, 111.25it/s]\u001b[A\u001b[A\n",
      "\n",
      "  7%|▋         | 47/682 [00:00<00:06, 100.27it/s]\u001b[A\u001b[A\n",
      "\n",
      "  8%|▊         | 56/682 [00:00<00:06, 94.47it/s] \u001b[A\u001b[A\n",
      "\n",
      "  9%|▉         | 64/682 [00:00<00:06, 89.42it/s]\u001b[A\u001b[A\n",
      "\n",
      " 11%|█         | 73/682 [00:00<00:06, 87.29it/s]\u001b[A\u001b[A\n",
      "\n",
      " 12%|█▏        | 81/682 [00:00<00:07, 84.31it/s]\u001b[A\u001b[A\n",
      "\n",
      " 13%|█▎        | 89/682 [00:00<00:07, 82.97it/s]\u001b[A\u001b[A\n",
      "\n",
      " 14%|█▍        | 97/682 [00:01<00:07, 80.64it/s]\u001b[A\u001b[A\n",
      "\n",
      " 15%|█▌        | 105/682 [00:01<00:07, 78.25it/s]\u001b[A\u001b[A\n",
      "\n",
      " 17%|█▋        | 113/682 [00:01<00:07, 77.57it/s]\u001b[A\u001b[A\n",
      "\n",
      " 18%|█▊        | 122/682 [00:01<00:07, 78.37it/s]\u001b[A\u001b[A\n",
      "\n",
      " 19%|█▉        | 130/682 [00:01<00:07, 77.90it/s]\u001b[A\u001b[A\n",
      "\n",
      " 20%|██        | 138/682 [00:01<00:07, 77.40it/s]\u001b[A\u001b[A\n",
      "\n",
      " 22%|██▏       | 147/682 [00:01<00:06, 77.17it/s]\u001b[A\u001b[A\n",
      "\n",
      " 23%|██▎       | 155/682 [00:01<00:06, 77.45it/s]\u001b[A\u001b[A\n",
      "\n",
      " 24%|██▍       | 164/682 [00:01<00:06, 78.22it/s]\u001b[A\u001b[A\n",
      "\n",
      " 25%|██▌       | 172/682 [00:02<00:06, 78.24it/s]\u001b[A\u001b[A\n",
      "\n",
      " 26%|██▋       | 180/682 [00:02<00:06, 77.83it/s]\u001b[A\u001b[A\n",
      "\n",
      " 28%|██▊       | 188/682 [00:02<00:06, 77.23it/s]\u001b[A\u001b[A\n",
      "\n",
      " 29%|██▊       | 196/682 [00:02<00:06, 75.68it/s]\u001b[A\u001b[A\n",
      "\n",
      " 30%|██▉       | 204/682 [00:02<00:06, 74.81it/s]\u001b[A\u001b[A\n",
      "\n",
      " 31%|███       | 212/682 [00:02<00:06, 74.68it/s]\u001b[A\u001b[A\n",
      "\n",
      " 32%|███▏      | 220/682 [00:02<00:06, 74.63it/s]\u001b[A\u001b[A\n",
      "\n",
      " 33%|███▎      | 228/682 [00:02<00:05, 75.76it/s]\u001b[A\u001b[A\n",
      "\n",
      " 35%|███▍      | 237/682 [00:02<00:05, 77.27it/s]\u001b[A\u001b[A\n",
      "\n",
      " 36%|███▌      | 245/682 [00:03<00:05, 76.34it/s]\u001b[A\u001b[A\n",
      "\n",
      " 37%|███▋      | 253/682 [00:03<00:05, 75.59it/s]\u001b[A\u001b[A\n",
      "\n",
      " 38%|███▊      | 261/682 [00:03<00:05, 73.92it/s]\u001b[A\u001b[A\n",
      "\n",
      " 39%|███▉      | 269/682 [00:03<00:05, 73.51it/s]\u001b[A\u001b[A\n",
      "\n",
      " 41%|████      | 277/682 [00:03<00:05, 74.35it/s]\u001b[A\u001b[A\n",
      "\n",
      " 42%|████▏     | 285/682 [00:03<00:05, 72.05it/s]\u001b[A\u001b[A\n",
      "\n",
      " 43%|████▎     | 293/682 [00:03<00:05, 72.47it/s]\u001b[A\u001b[A\n",
      "\n",
      " 44%|████▍     | 301/682 [00:03<00:05, 72.71it/s]\u001b[A\u001b[A\n",
      "\n",
      " 45%|████▌     | 309/682 [00:03<00:05, 73.59it/s]\u001b[A\u001b[A\n",
      "\n",
      " 46%|████▋     | 317/682 [00:04<00:05, 70.86it/s]\u001b[A\u001b[A\n",
      "\n",
      " 48%|████▊     | 325/682 [00:04<00:05, 71.06it/s]\u001b[A\u001b[A\n",
      "\n",
      " 49%|████▉     | 333/682 [00:04<00:04, 71.64it/s]\u001b[A\u001b[A\n",
      "\n",
      " 50%|█████     | 341/682 [00:04<00:04, 71.58it/s]\u001b[A\u001b[A\n",
      "\n",
      " 51%|█████     | 349/682 [00:04<00:04, 72.71it/s]\u001b[A\u001b[A\n",
      "\n",
      " 52%|█████▏    | 357/682 [00:04<00:04, 72.02it/s]\u001b[A\u001b[A\n",
      "\n",
      " 54%|█████▎    | 365/682 [00:04<00:04, 71.94it/s]\u001b[A\u001b[A\n",
      "\n",
      " 55%|█████▍    | 373/682 [00:04<00:04, 72.33it/s]\u001b[A\u001b[A\n",
      "\n",
      " 56%|█████▌    | 381/682 [00:04<00:04, 72.97it/s]\u001b[A\u001b[A\n",
      "\n",
      " 57%|█████▋    | 389/682 [00:05<00:03, 74.57it/s]\u001b[A\u001b[A\n",
      "\n",
      " 58%|█████▊    | 397/682 [00:05<00:03, 74.93it/s]\u001b[A\u001b[A\n",
      "\n",
      " 59%|█████▉    | 405/682 [00:05<00:03, 71.50it/s]\u001b[A\u001b[A\n",
      "\n",
      " 61%|██████    | 413/682 [00:05<00:03, 71.44it/s]\u001b[A\u001b[A\n",
      "\n",
      " 62%|██████▏   | 421/682 [00:05<00:03, 71.07it/s]\u001b[A\u001b[A\n",
      "\n",
      " 63%|██████▎   | 429/682 [00:05<00:03, 69.32it/s]\u001b[A\u001b[A\n",
      "\n",
      " 64%|██████▍   | 437/682 [00:05<00:03, 71.02it/s]\u001b[A\u001b[A\n",
      "\n",
      " 65%|██████▌   | 445/682 [00:05<00:03, 71.65it/s]\u001b[A\u001b[A\n",
      "\n",
      " 66%|██████▋   | 453/682 [00:05<00:03, 72.35it/s]\u001b[A\u001b[A\n",
      "\n",
      " 68%|██████▊   | 461/682 [00:06<00:03, 72.94it/s]\u001b[A\u001b[A\n",
      "\n",
      " 69%|██████▉   | 469/682 [00:06<00:02, 73.75it/s]\u001b[A\u001b[A\n",
      "\n",
      " 70%|██████▉   | 477/682 [00:06<00:02, 72.97it/s]\u001b[A\u001b[A\n",
      "\n",
      " 71%|███████   | 485/682 [00:06<00:02, 73.39it/s]\u001b[A\u001b[A\n",
      "\n",
      " 72%|███████▏  | 493/682 [00:06<00:02, 71.89it/s]\u001b[A\u001b[A\n",
      "\n",
      " 73%|███████▎  | 501/682 [00:06<00:02, 72.01it/s]\u001b[A\u001b[A\n",
      "\n",
      " 75%|███████▍  | 509/682 [00:06<00:02, 70.80it/s]\u001b[A\u001b[A\n",
      "\n",
      " 76%|███████▌  | 517/682 [00:06<00:02, 71.08it/s]\u001b[A\u001b[A\n",
      "\n",
      " 77%|███████▋  | 525/682 [00:06<00:02, 70.78it/s]\u001b[A\u001b[A\n",
      "\n",
      " 78%|███████▊  | 533/682 [00:07<00:02, 70.25it/s]\u001b[A\u001b[A\n",
      "\n",
      " 79%|███████▉  | 541/682 [00:07<00:02, 67.83it/s]\u001b[A\u001b[A\n",
      "\n",
      " 80%|████████  | 548/682 [00:07<00:02, 65.62it/s]\u001b[A\u001b[A\n",
      "\n",
      " 82%|████████▏ | 556/682 [00:07<00:01, 67.62it/s]\u001b[A\u001b[A\n",
      "\n",
      " 83%|████████▎ | 563/682 [00:07<00:01, 65.83it/s]\u001b[A\u001b[A\n",
      "\n",
      " 84%|████████▎ | 570/682 [00:07<00:01, 65.81it/s]\u001b[A\u001b[A\n",
      "\n",
      " 85%|████████▍ | 577/682 [00:07<00:01, 65.07it/s]\u001b[A\u001b[A\n",
      "\n",
      " 86%|████████▌ | 584/682 [00:07<00:01, 60.65it/s]\u001b[A\u001b[A\n",
      "\n",
      " 87%|████████▋ | 591/682 [00:07<00:01, 58.84it/s]\u001b[A\u001b[A\n",
      "\n",
      " 88%|████████▊ | 597/682 [00:08<00:01, 58.46it/s]\u001b[A\u001b[A\n",
      "\n",
      " 88%|████████▊ | 603/682 [00:08<00:01, 58.23it/s]\u001b[A\u001b[A\n",
      "\n",
      " 89%|████████▉ | 610/682 [00:08<00:01, 59.64it/s]\u001b[A\u001b[A\n",
      "\n",
      " 90%|█████████ | 617/682 [00:08<00:01, 60.73it/s]\u001b[A\u001b[A\n",
      "\n",
      " 91%|█████████▏| 624/682 [00:08<00:00, 58.93it/s]\u001b[A\u001b[A\n",
      "\n",
      " 93%|█████████▎| 631/682 [00:08<00:00, 60.57it/s]\u001b[A\u001b[A\n",
      "\n",
      " 94%|█████████▎| 638/682 [00:08<00:00, 63.12it/s]\u001b[A\u001b[A\n",
      "\n",
      " 95%|█████████▍| 645/682 [00:08<00:00, 61.61it/s]\u001b[A\u001b[A\n",
      "\n",
      " 96%|█████████▌| 652/682 [00:08<00:00, 61.93it/s]\u001b[A\u001b[A\n",
      "\n",
      " 97%|█████████▋| 659/682 [00:09<00:00, 62.70it/s]\u001b[A\u001b[A\n",
      "\n",
      " 98%|█████████▊| 666/682 [00:09<00:00, 63.24it/s]\u001b[A\u001b[A\n",
      "\n",
      " 99%|█████████▊| 673/682 [00:09<00:00, 63.81it/s]\u001b[A\u001b[A\n",
      "\n",
      "100%|█████████▉| 680/682 [00:09<00:00, 64.60it/s]\u001b[A\u001b[A\n",
      "\n",
      "100%|█████████▉| 681/682 [00:09<00:00, 72.35it/s]\u001b[A\u001b[A"
     ]
    },
    {
     "name": "stdout",
     "output_type": "stream",
     "text": [
      "[MoviePy] Done.\n",
      "[MoviePy] >>>> Video ready: test_videos_output/solidYellowLeft.mp4 \n",
      "\n",
      "CPU times: user 7.81 s, sys: 1.91 s, total: 9.71 s\n",
      "Wall time: 9.94 s\n"
     ]
    },
    {
     "data": {
      "text/html": [
       "\n",
       "        <video width=\"960\" height=\"540\" controls>\n",
       "          <source src=\"test_videos_output/solidYellowLeft.mp4\">\n",
       "        </video>\n",
       "        "
      ],
      "text/plain": [
       "<IPython.core.display.HTML object>"
      ]
     },
     "metadata": {},
     "output_type": "display_data"
    }
   ],
   "source": [
    "processVideo('solidYellowLeft.mp4', testVideoInputDir, testVideosOutputDir)"
   ]
  },
  {
   "cell_type": "markdown",
   "metadata": {},
   "source": [
    "# Challenge video test (not so great....)"
   ]
  },
  {
   "cell_type": "code",
   "execution_count": 204,
   "metadata": {
    "collapsed": false
   },
   "outputs": [
    {
     "name": "stdout",
     "output_type": "stream",
     "text": [
      "[MoviePy] >>>> Building video test_videos_output/challenge.mp4\n",
      "[MoviePy] Writing video test_videos_output/challenge.mp4\n"
     ]
    },
    {
     "name": "stderr",
     "output_type": "stream",
     "text": [
      "\n",
      "\n",
      "  0%|          | 0/251 [00:00<?, ?it/s]\u001b[A\u001b[A\n",
      "\n",
      "  2%|▏         | 5/251 [00:00<00:05, 47.60it/s]\u001b[A\u001b[A\n",
      "\n",
      "  4%|▍         | 11/251 [00:00<00:04, 49.22it/s]\u001b[A\u001b[A\n",
      "\n",
      "  7%|▋         | 17/251 [00:00<00:04, 50.78it/s]\u001b[A\u001b[A\n",
      "\n",
      "  9%|▉         | 23/251 [00:00<00:04, 51.86it/s]\u001b[A\u001b[A\n",
      "\n",
      " 12%|█▏        | 29/251 [00:00<00:04, 52.39it/s]\u001b[A\u001b[A\n",
      "\n",
      " 14%|█▍        | 35/251 [00:00<00:04, 52.53it/s]\u001b[A\u001b[A\n",
      "\n",
      " 16%|█▋        | 41/251 [00:00<00:04, 52.34it/s]\u001b[A\u001b[A\n",
      "\n",
      " 18%|█▊        | 46/251 [00:00<00:04, 50.02it/s]\u001b[A\u001b[A\n",
      "\n",
      " 20%|██        | 51/251 [00:01<00:04, 40.79it/s]\u001b[A\u001b[A\n",
      "\n",
      " 22%|██▏       | 56/251 [00:01<00:04, 40.03it/s]\u001b[A\u001b[A\n",
      "\n",
      " 24%|██▍       | 61/251 [00:01<00:04, 38.10it/s]\u001b[A\u001b[A\n",
      "\n",
      " 26%|██▌       | 65/251 [00:01<00:04, 37.39it/s]\u001b[A\u001b[A\n",
      "\n",
      " 27%|██▋       | 69/251 [00:01<00:04, 37.80it/s]\u001b[A\u001b[A\n",
      "\n",
      " 29%|██▉       | 73/251 [00:01<00:04, 37.95it/s]\u001b[A\u001b[A\n",
      "\n",
      " 31%|███       | 77/251 [00:01<00:04, 36.86it/s]\u001b[A\u001b[A\n",
      "\n",
      " 32%|███▏      | 81/251 [00:01<00:04, 37.04it/s]\u001b[A\u001b[A\n",
      "\n",
      " 34%|███▍      | 85/251 [00:01<00:04, 36.97it/s]\u001b[A\u001b[A\n",
      "\n",
      " 35%|███▌      | 89/251 [00:02<00:04, 37.40it/s]\u001b[A\u001b[A\n",
      "\n",
      " 37%|███▋      | 93/251 [00:02<00:04, 37.79it/s]\u001b[A\u001b[A\n",
      "\n",
      " 39%|███▊      | 97/251 [00:02<00:04, 37.82it/s]\u001b[A\u001b[A\n",
      "\n",
      " 40%|████      | 101/251 [00:02<00:03, 38.19it/s]\u001b[A\u001b[A\n",
      "\n",
      " 42%|████▏     | 105/251 [00:02<00:03, 36.73it/s]\u001b[A\u001b[A\n",
      "\n",
      " 43%|████▎     | 109/251 [00:02<00:03, 35.82it/s]\u001b[A\u001b[A\n",
      "\n",
      " 45%|████▌     | 113/251 [00:02<00:03, 36.00it/s]\u001b[A\u001b[A\n",
      "\n",
      " 47%|████▋     | 117/251 [00:02<00:03, 36.14it/s]\u001b[A\u001b[A\n",
      "\n",
      " 48%|████▊     | 121/251 [00:02<00:03, 35.80it/s]\u001b[A\u001b[A\n",
      "\n",
      " 50%|████▉     | 125/251 [00:03<00:03, 34.36it/s]\u001b[A\u001b[A\n",
      "\n",
      " 51%|█████▏    | 129/251 [00:03<00:03, 33.55it/s]\u001b[A\u001b[A\n",
      "\n",
      " 53%|█████▎    | 133/251 [00:03<00:03, 32.96it/s]\u001b[A\u001b[A\n",
      "\n",
      " 55%|█████▍    | 137/251 [00:03<00:03, 32.87it/s]\u001b[A\u001b[A\n",
      "\n",
      " 56%|█████▌    | 141/251 [00:03<00:03, 32.59it/s]\u001b[A\u001b[A\n",
      "\n",
      " 58%|█████▊    | 145/251 [00:03<00:03, 32.75it/s]\u001b[A\u001b[A\n",
      "\n",
      " 59%|█████▉    | 149/251 [00:03<00:03, 32.47it/s]\u001b[A\u001b[A\n",
      "\n",
      " 61%|██████    | 153/251 [00:03<00:03, 32.45it/s]\u001b[A\u001b[A\n",
      "\n",
      " 63%|██████▎   | 157/251 [00:04<00:02, 32.55it/s]\u001b[A\u001b[A\n",
      "\n",
      " 64%|██████▍   | 161/251 [00:04<00:02, 33.02it/s]\u001b[A\u001b[A\n",
      "\n",
      " 66%|██████▌   | 165/251 [00:04<00:02, 32.32it/s]\u001b[A\u001b[A\n",
      "\n",
      " 67%|██████▋   | 169/251 [00:04<00:02, 31.59it/s]\u001b[A\u001b[A\n",
      "\n",
      " 69%|██████▉   | 173/251 [00:04<00:02, 32.00it/s]\u001b[A\u001b[A\n",
      "\n",
      " 71%|███████   | 177/251 [00:04<00:02, 29.96it/s]\u001b[A\u001b[A\n",
      "\n",
      " 72%|███████▏  | 181/251 [00:04<00:02, 29.96it/s]\u001b[A\u001b[A\n",
      "\n",
      " 74%|███████▎  | 185/251 [00:05<00:02, 29.94it/s]\u001b[A\u001b[A\n",
      "\n",
      " 75%|███████▌  | 189/251 [00:05<00:02, 29.59it/s]\u001b[A\u001b[A\n",
      "\n",
      " 76%|███████▋  | 192/251 [00:05<00:02, 27.49it/s]\u001b[A\u001b[A\n",
      "\n",
      " 78%|███████▊  | 195/251 [00:05<00:02, 27.84it/s]\u001b[A\u001b[A\n",
      "\n",
      " 79%|███████▉  | 199/251 [00:05<00:01, 28.48it/s]\u001b[A\u001b[A\n",
      "\n",
      " 80%|████████  | 202/251 [00:05<00:01, 28.36it/s]\u001b[A\u001b[A\n",
      "\n",
      " 82%|████████▏ | 206/251 [00:05<00:01, 29.25it/s]\u001b[A\u001b[A\n",
      "\n",
      " 84%|████████▎ | 210/251 [00:05<00:01, 30.02it/s]\u001b[A\u001b[A\n",
      "\n",
      " 85%|████████▌ | 214/251 [00:06<00:01, 30.73it/s]\u001b[A\u001b[A\n",
      "\n",
      " 87%|████████▋ | 218/251 [00:06<00:01, 30.82it/s]\u001b[A\u001b[A\n",
      "\n",
      " 88%|████████▊ | 222/251 [00:06<00:00, 31.67it/s]\u001b[A\u001b[A\n",
      "\n",
      " 90%|█████████ | 226/251 [00:06<00:00, 32.36it/s]\u001b[A\u001b[A\n",
      "\n",
      " 92%|█████████▏| 230/251 [00:06<00:00, 33.14it/s]\u001b[A\u001b[A\n",
      "\n",
      " 93%|█████████▎| 234/251 [00:06<00:00, 32.92it/s]\u001b[A\u001b[A\n",
      "\n",
      " 95%|█████████▍| 238/251 [00:06<00:00, 32.70it/s]\u001b[A\u001b[A\n",
      "\n",
      " 96%|█████████▋| 242/251 [00:06<00:00, 33.08it/s]\u001b[A\u001b[A\n",
      "\n",
      " 98%|█████████▊| 246/251 [00:06<00:00, 34.39it/s]\u001b[A\u001b[A\n",
      "\n",
      "100%|█████████▉| 250/251 [00:07<00:00, 34.96it/s]\u001b[A\u001b[A\n",
      "\n",
      "100%|██████████| 251/251 [00:07<00:00, 35.40it/s]\u001b[A\u001b[A"
     ]
    },
    {
     "name": "stdout",
     "output_type": "stream",
     "text": [
      "[MoviePy] Done.\n",
      "[MoviePy] >>>> Video ready: test_videos_output/challenge.mp4 \n",
      "\n",
      "CPU times: user 5.01 s, sys: 1.65 s, total: 6.66 s\n",
      "Wall time: 8.09 s\n"
     ]
    },
    {
     "data": {
      "text/html": [
       "\n",
       "        <video width=\"960\" height=\"540\" controls>\n",
       "          <source src=\"test_videos_output/challenge.mp4\">\n",
       "        </video>\n",
       "        "
      ],
      "text/plain": [
       "<IPython.core.display.HTML object>"
      ]
     },
     "metadata": {},
     "output_type": "display_data"
    }
   ],
   "source": [
    "processVideo('challenge.mp4', testVideoInputDir, testVideosOutputDir)"
   ]
  },
  {
   "cell_type": "code",
   "execution_count": null,
   "metadata": {
    "collapsed": true
   },
   "outputs": [],
   "source": []
  }
 ],
 "metadata": {
  "kernelspec": {
   "display_name": "Python 3",
   "language": "python",
   "name": "python3"
  },
  "language_info": {
   "codemirror_mode": {
    "name": "ipython",
    "version": 3
   },
   "file_extension": ".py",
   "mimetype": "text/x-python",
   "name": "python",
   "nbconvert_exporter": "python",
   "pygments_lexer": "ipython3",
   "version": "3.5.2"
  },
  "widgets": {
   "state": {},
   "version": "1.1.2"
  }
 },
 "nbformat": 4,
 "nbformat_minor": 2
}
