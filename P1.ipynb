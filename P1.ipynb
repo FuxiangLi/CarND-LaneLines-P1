{
 "cells": [
  {
   "cell_type": "markdown",
   "metadata": {
    "deletable": true,
    "editable": true
   },
   "source": [
    "# Project #1 - Finding the Lane Lines on the Road"
   ]
  },
  {
   "cell_type": "markdown",
   "metadata": {
    "deletable": true,
    "editable": true
   },
   "source": [
    "## We need to import the initial packages"
   ]
  },
  {
   "cell_type": "code",
   "execution_count": 143,
   "metadata": {
    "collapsed": false,
    "deletable": true,
    "editable": true
   },
   "outputs": [],
   "source": [
    "#importing some useful packages\n",
    "import matplotlib.pyplot as plt\n",
    "import matplotlib.image as mpimg\n",
    "import numpy as np\n",
    "import cv2\n",
    "import os\n",
    "import random\n",
    "%matplotlib inline\n",
    "\n",
    "\n",
    "# Import everything needed to edit/save/watch video clips\n",
    "from moviepy.editor import VideoFileClip\n",
    "from IPython.display import display, HTML"
   ]
  },
  {
   "cell_type": "markdown",
   "metadata": {
    "deletable": true,
    "editable": true
   },
   "source": [
    "## Create helper functions\n",
    "Provided by the (project seed)[https://github.com/udacity/CarND-LaneLines-P1/blob/master/P1.ipynb]"
   ]
  },
  {
   "cell_type": "code",
   "execution_count": 144,
   "metadata": {
    "collapsed": false,
    "deletable": true,
    "editable": true
   },
   "outputs": [],
   "source": [
    "import math\n",
    "\n",
    "def grayscale(img):\n",
    "    \"\"\"Applies the Grayscale transform\n",
    "    This will return an image with only one color channel\n",
    "    but NOTE: to see the returned image as grayscale\n",
    "    (assuming your grayscaled image is called 'gray')\n",
    "    you should call plt.imshow(gray, cmap='gray')\"\"\"\n",
    "    #return cv2.cvtColor(img, cv2.COLOR_RGB2GRAY)\n",
    "    # Or use BGR2GRAY if you read an image with cv2.imread()\n",
    "    return cv2.cvtColor(img, cv2.COLOR_BGR2GRAY)\n",
    "    \n",
    "def canny(img, low_threshold, high_threshold):\n",
    "    \"\"\"Applies the Canny transform\"\"\"\n",
    "    return cv2.Canny(img, low_threshold, high_threshold)\n",
    "\n",
    "def gaussian_blur(img, kernel_size):\n",
    "    \"\"\"Applies a Gaussian Noise kernel\"\"\"\n",
    "    return cv2.GaussianBlur(img, (kernel_size, kernel_size), 0)\n",
    "\n",
    "def region_of_interest(img, vertices):\n",
    "    \"\"\"\n",
    "    Applies an image mask.\n",
    "    \n",
    "    Only keeps the region of the image defined by the polygon\n",
    "    formed from `vertices`. The rest of the image is set to black.\n",
    "    \"\"\"\n",
    "    #defining a blank mask to start with\n",
    "    mask = np.zeros_like(img)   \n",
    "    \n",
    "    #defining a 3 channel or 1 channel color to fill the mask with depending on the input image\n",
    "    if len(img.shape) > 2:\n",
    "        channel_count = img.shape[2]  # i.e. 3 or 4 depending on your image\n",
    "        ignore_mask_color = (255,) * channel_count\n",
    "    else:\n",
    "        ignore_mask_color = 255\n",
    "        \n",
    "    #filling pixels inside the polygon defined by \"vertices\" with the fill color    \n",
    "    cv2.fillPoly(mask, vertices, ignore_mask_color)\n",
    "    \n",
    "    #returning the image only where mask pixels are nonzero\n",
    "    masked_image = cv2.bitwise_and(img, mask)\n",
    "    return masked_image\n",
    "\n",
    "def drawLine(img, m, b, color=[255, 0, 0], thickness=2):    \n",
    "    maxY = img.shape[0]\n",
    "    maxX = img.shape[1]\n",
    "    y1 = maxY\n",
    "    x1 = int((y1 - b)/m)\n",
    "    y2 = int((maxY/2)) + 30\n",
    "    x2 = int((y2 - b)/m)\n",
    "    cv2.line(img, (x1, y1), (x2, y2), [255, 0, 0], 4)\n",
    "\n",
    "def draw_lines(img, lines, color=[255, 0, 0], thickness=2):\n",
    "    \"\"\"\n",
    "    NOTE: this is the function you might want to use as a starting point once you want to \n",
    "    average/extrapolate the line segments you detect to map out the full\n",
    "    extent of the lane (going from the result shown in raw-lines-example.mp4\n",
    "    to that shown in P1_example.mp4).  \n",
    "    \n",
    "    Think about things like separating line segments by their \n",
    "    slope ((y2-y1)/(x2-x1)) to decide which segments are part of the left\n",
    "    line vs. the right line.  Then, you can average the position of each of \n",
    "    the lines and extrapolate to the top and bottom of the lane.\n",
    "    \n",
    "    This function draws `lines` with `color` and `thickness`.    \n",
    "    Lines are drawn on the image inplace (mutates the image).\n",
    "    If you want to make the lines semi-transparent, think about combining\n",
    "    this function with the weighted_img() function below\n",
    "    \"\"\"\n",
    "    \n",
    "    leftPointsX = []\n",
    "    leftPointsY = []\n",
    "    rightPointsX = []\n",
    "    rightPointsY = []\n",
    "\n",
    "    for line in lines:\n",
    "        for x1,y1,x2,y2 in line:\n",
    "            m = (y1 - y2)/(x1 - x2)\n",
    "            if m < 0:\n",
    "                leftPointsX.append(x1)\n",
    "                leftPointsY.append(y1)\n",
    "                leftPointsX.append(x2)\n",
    "                leftPointsY.append(y2)\n",
    "            else:\n",
    "                rightPointsX.append(x1)\n",
    "                rightPointsY.append(y1)\n",
    "                rightPointsX.append(x2)\n",
    "                rightPointsY.append(y2)\n",
    "\n",
    "    leftLine = np.polyfit(leftPointsX, leftPointsY, 1)      \n",
    "    rightLine = np.polyfit(rightPointsX, rightPointsY, 1)\n",
    "    \n",
    "    drawLine(img, leftLine[0], leftLine[1])\n",
    "    drawLine(img, rightLine[0], rightLine[1])\n",
    "\n",
    "def hough_lines(img, rho, theta, threshold, min_line_len, max_line_gap):\n",
    "    \"\"\"\n",
    "    `img` should be the output of a Canny transform.\n",
    "        \n",
    "    Returns an image with hough lines drawn.\n",
    "    \"\"\"\n",
    "    lines = cv2.HoughLinesP(img, rho, theta, threshold, np.array([]), minLineLength=min_line_len, maxLineGap=max_line_gap)\n",
    "    line_img = np.zeros((img.shape[0], img.shape[1], 3), dtype=np.uint8)\n",
    "    draw_lines(line_img, lines)\n",
    "    return line_img\n",
    "\n",
    "# Python 3 has support for cool math symbols.\n",
    "\n",
    "def weighted_img(img, initial_img, α=0.8, β=1., λ=0.):\n",
    "    \"\"\"\n",
    "    `img` is the output of the hough_lines(), An image with lines drawn on it.\n",
    "    Should be a blank image (all black) with lines drawn on it.\n",
    "    \n",
    "    `initial_img` should be the image before any processing.\n",
    "    \n",
    "    The result image is computed as follows:\n",
    "    \n",
    "    initial_img * α + img * β + λ\n",
    "    NOTE: initial_img and img must be the same shape!\n",
    "    \"\"\"\n",
    "    return cv2.addWeighted(initial_img, α, img, β, λ)"
   ]
  },
  {
   "cell_type": "code",
   "execution_count": 145,
   "metadata": {
    "collapsed": false,
    "deletable": true,
    "editable": true
   },
   "outputs": [],
   "source": [
    "def showImagesInHtml(images, dir):\n",
    "    \"\"\"\n",
    "    Shows the list of `images` names on the directory `dir` as HTML embeded on the page.\n",
    "    \"\"\"\n",
    "    randomNumber = random.randint(1, 100000)\n",
    "    buffer = \"<div>\"\n",
    "    for img in images:\n",
    "        imgSource = dir + '/' + img + \"?\" + str(randomNumber)\n",
    "        buffer += \"\"\"<img src=\"{0}\" width=\"300\" height=\"110\" style=\"float:left; margin:1px\"/>\"\"\".format(imgSource)\n",
    "    buffer += \"</div>\"\n",
    "    display(HTML(buffer))\n",
    "\n",
    "def saveImages(images, outputDir, imageNames):\n",
    "    \"\"\"\n",
    "    Writes the `images` to the `outputDir` directory using the `imagesNames`.\n",
    "    It creates the output directory if it doesn't exists.\n",
    "    \n",
    "    Example:\n",
    "    \n",
    "    saveImages([img1], 'tempDir', ['myImage.jpg'])\n",
    "    \n",
    "    Will save the image on the path: tempDir/myImage.jpg\n",
    "    \n",
    "    \"\"\"\n",
    "    if not os.path.exists(outputDir):\n",
    "        os.makedirs(outputDir)\n",
    "        \n",
    "    zipped = list(map(lambda imgZip: (outputDir + '/' + imgZip[1], imgZip[0]), zip(images, imageNames)))\n",
    "    for imgPair in zipped:\n",
    "        plt.imsave(imgPair[0], imgPair[1])\n",
    "        \n",
    "def doSaveAndDisplay(images, outputDir, imageNames, somethingToDo):\n",
    "    \"\"\"\n",
    "    Applies the lambda `somethingToDo` to `images`, safe the results at the directory `outputDir`,\n",
    "    and render the results in html.\n",
    "    \n",
    "    It returns the output images.\n",
    "    \"\"\"\n",
    "    outputImages = list(map(somethingToDo, images))\n",
    "    saveImages(outputImages, outputDir, imageNames)\n",
    "    showImagesInHtml(imageNames, outputDir)\n",
    "    return outputImages"
   ]
  },
  {
   "cell_type": "markdown",
   "metadata": {
    "deletable": true,
    "editable": true
   },
   "source": [
    "# Loading test images"
   ]
  },
  {
   "cell_type": "code",
   "execution_count": 146,
   "metadata": {
    "collapsed": false,
    "deletable": true,
    "editable": true
   },
   "outputs": [
    {
     "data": {
      "text/html": [
       "<div><img src=\"test_images/solidWhiteCurve.jpg?61436\" width=\"300\" height=\"110\" style=\"float:left; margin:1px\"/><img src=\"test_images/solidWhiteRight.jpg?61436\" width=\"300\" height=\"110\" style=\"float:left; margin:1px\"/><img src=\"test_images/solidYellowCurve.jpg?61436\" width=\"300\" height=\"110\" style=\"float:left; margin:1px\"/><img src=\"test_images/solidYellowCurve2.jpg?61436\" width=\"300\" height=\"110\" style=\"float:left; margin:1px\"/><img src=\"test_images/solidYellowLeft.jpg?61436\" width=\"300\" height=\"110\" style=\"float:left; margin:1px\"/><img src=\"test_images/whiteCarLaneSwitch.jpg?61436\" width=\"300\" height=\"110\" style=\"float:left; margin:1px\"/></div>"
      ],
      "text/plain": [
       "<IPython.core.display.HTML object>"
      ]
     },
     "metadata": {},
     "output_type": "display_data"
    }
   ],
   "source": [
    "testImagesDir = 'test_images'\n",
    "testImageNames = os.listdir(testImagesDir)\n",
    "showImagesInHtml(testImageNames, testImagesDir)\n",
    "testImages = list(map(lambda img: plt.imread(testImagesDir + '/' + img), testImageNames))"
   ]
  },
  {
   "cell_type": "markdown",
   "metadata": {
    "deletable": true,
    "editable": true
   },
   "source": [
    "# Converting images into gray scale"
   ]
  },
  {
   "cell_type": "code",
   "execution_count": 147,
   "metadata": {
    "collapsed": false,
    "deletable": true,
    "editable": true
   },
   "outputs": [
    {
     "data": {
      "text/html": [
       "<div><img src=\"test_images_gray/solidWhiteCurve.jpg?32542\" width=\"300\" height=\"110\" style=\"float:left; margin:1px\"/><img src=\"test_images_gray/solidWhiteRight.jpg?32542\" width=\"300\" height=\"110\" style=\"float:left; margin:1px\"/><img src=\"test_images_gray/solidYellowCurve.jpg?32542\" width=\"300\" height=\"110\" style=\"float:left; margin:1px\"/><img src=\"test_images_gray/solidYellowCurve2.jpg?32542\" width=\"300\" height=\"110\" style=\"float:left; margin:1px\"/><img src=\"test_images_gray/solidYellowLeft.jpg?32542\" width=\"300\" height=\"110\" style=\"float:left; margin:1px\"/><img src=\"test_images_gray/whiteCarLaneSwitch.jpg?32542\" width=\"300\" height=\"110\" style=\"float:left; margin:1px\"/></div>"
      ],
      "text/plain": [
       "<IPython.core.display.HTML object>"
      ]
     },
     "metadata": {},
     "output_type": "display_data"
    }
   ],
   "source": [
    "def grayAction(img):\n",
    "    return grayscale(img)\n",
    "\n",
    "testImagesGray = doSaveAndDisplay(testImages, 'test_images_gray', testImageNames, grayAction)"
   ]
  },
  {
   "cell_type": "markdown",
   "metadata": {
    "deletable": true,
    "editable": true
   },
   "source": [
    "# Applying Gaussian smoothing"
   ]
  },
  {
   "cell_type": "code",
   "execution_count": 148,
   "metadata": {
    "collapsed": false,
    "deletable": true,
    "editable": true
   },
   "outputs": [
    {
     "data": {
      "text/html": [
       "<div><img src=\"test_images_blur/solidWhiteCurve.jpg?62647\" width=\"300\" height=\"110\" style=\"float:left; margin:1px\"/><img src=\"test_images_blur/solidWhiteRight.jpg?62647\" width=\"300\" height=\"110\" style=\"float:left; margin:1px\"/><img src=\"test_images_blur/solidYellowCurve.jpg?62647\" width=\"300\" height=\"110\" style=\"float:left; margin:1px\"/><img src=\"test_images_blur/solidYellowCurve2.jpg?62647\" width=\"300\" height=\"110\" style=\"float:left; margin:1px\"/><img src=\"test_images_blur/solidYellowLeft.jpg?62647\" width=\"300\" height=\"110\" style=\"float:left; margin:1px\"/><img src=\"test_images_blur/whiteCarLaneSwitch.jpg?62647\" width=\"300\" height=\"110\" style=\"float:left; margin:1px\"/></div>"
      ],
      "text/plain": [
       "<IPython.core.display.HTML object>"
      ]
     },
     "metadata": {},
     "output_type": "display_data"
    }
   ],
   "source": [
    "blur_kernel_size = 15\n",
    "blurAction = lambda img:gaussian_blur(img, blur_kernel_size)\n",
    "\n",
    "testImagesBlur = doSaveAndDisplay(testImagesGray, 'test_images_blur', testImageNames, blurAction)"
   ]
  },
  {
   "cell_type": "markdown",
   "metadata": {
    "deletable": true,
    "editable": true
   },
   "source": [
    "# Applying Canny transform"
   ]
  },
  {
   "cell_type": "code",
   "execution_count": 149,
   "metadata": {
    "collapsed": false,
    "deletable": true,
    "editable": true
   },
   "outputs": [
    {
     "data": {
      "text/html": [
       "<div><img src=\"test_images_canny/solidWhiteCurve.jpg?61903\" width=\"300\" height=\"110\" style=\"float:left; margin:1px\"/><img src=\"test_images_canny/solidWhiteRight.jpg?61903\" width=\"300\" height=\"110\" style=\"float:left; margin:1px\"/><img src=\"test_images_canny/solidYellowCurve.jpg?61903\" width=\"300\" height=\"110\" style=\"float:left; margin:1px\"/><img src=\"test_images_canny/solidYellowCurve2.jpg?61903\" width=\"300\" height=\"110\" style=\"float:left; margin:1px\"/><img src=\"test_images_canny/solidYellowLeft.jpg?61903\" width=\"300\" height=\"110\" style=\"float:left; margin:1px\"/><img src=\"test_images_canny/whiteCarLaneSwitch.jpg?61903\" width=\"300\" height=\"110\" style=\"float:left; margin:1px\"/></div>"
      ],
      "text/plain": [
       "<IPython.core.display.HTML object>"
      ]
     },
     "metadata": {},
     "output_type": "display_data"
    }
   ],
   "source": [
    "canny_low_threshold = 20\n",
    "canny_high_threshold = 100\n",
    "cannyAction = lambda img:canny(img, canny_low_threshold, canny_high_threshold)\n",
    "testImagesCanny = doSaveAndDisplay(testImagesBlur, 'test_images_canny', testImageNames, cannyAction)"
   ]
  },
  {
   "cell_type": "markdown",
   "metadata": {
    "deletable": true,
    "editable": true
   },
   "source": [
    "# Applying Region of Interest"
   ]
  },
  {
   "cell_type": "code",
   "execution_count": 150,
   "metadata": {
    "collapsed": false,
    "deletable": true,
    "editable": true
   },
   "outputs": [
    {
     "data": {
      "text/html": [
       "<div><img src=\"test_images_region/solidWhiteCurve.jpg?17309\" width=\"300\" height=\"110\" style=\"float:left; margin:1px\"/><img src=\"test_images_region/solidWhiteRight.jpg?17309\" width=\"300\" height=\"110\" style=\"float:left; margin:1px\"/><img src=\"test_images_region/solidYellowCurve.jpg?17309\" width=\"300\" height=\"110\" style=\"float:left; margin:1px\"/><img src=\"test_images_region/solidYellowCurve2.jpg?17309\" width=\"300\" height=\"110\" style=\"float:left; margin:1px\"/><img src=\"test_images_region/solidYellowLeft.jpg?17309\" width=\"300\" height=\"110\" style=\"float:left; margin:1px\"/><img src=\"test_images_region/whiteCarLaneSwitch.jpg?17309\" width=\"300\" height=\"110\" style=\"float:left; margin:1px\"/></div>"
      ],
      "text/plain": [
       "<IPython.core.display.HTML object>"
      ]
     },
     "metadata": {},
     "output_type": "display_data"
    }
   ],
   "source": [
    "def maskImage(img):\n",
    "    ysize = img.shape[0]\n",
    "    xsize = img.shape[1]\n",
    "    region = np.array([ [0, ysize], [xsize/2,(ysize/2)+ 30], [xsize,ysize] ], np.int32)\n",
    "    return region_of_interest(img, [region])\n",
    "\n",
    "testImagesMasked = doSaveAndDisplay(testImagesCanny, 'test_images_region', testImageNames, maskImage)"
   ]
  },
  {
   "cell_type": "markdown",
   "metadata": {
    "deletable": true,
    "editable": true
   },
   "source": [
    "# Applying Hough transform"
   ]
  },
  {
   "cell_type": "code",
   "execution_count": 151,
   "metadata": {
    "collapsed": false,
    "deletable": true,
    "editable": true
   },
   "outputs": [
    {
     "data": {
      "text/html": [
       "<div><img src=\"test_images_hough/solidWhiteCurve.jpg?19348\" width=\"300\" height=\"110\" style=\"float:left; margin:1px\"/><img src=\"test_images_hough/solidWhiteRight.jpg?19348\" width=\"300\" height=\"110\" style=\"float:left; margin:1px\"/><img src=\"test_images_hough/solidYellowCurve.jpg?19348\" width=\"300\" height=\"110\" style=\"float:left; margin:1px\"/><img src=\"test_images_hough/solidYellowCurve2.jpg?19348\" width=\"300\" height=\"110\" style=\"float:left; margin:1px\"/><img src=\"test_images_hough/solidYellowLeft.jpg?19348\" width=\"300\" height=\"110\" style=\"float:left; margin:1px\"/><img src=\"test_images_hough/whiteCarLaneSwitch.jpg?19348\" width=\"300\" height=\"110\" style=\"float:left; margin:1px\"/></div>"
      ],
      "text/plain": [
       "<IPython.core.display.HTML object>"
      ]
     },
     "metadata": {},
     "output_type": "display_data"
    }
   ],
   "source": [
    "rho = 1 # distance resolution in pixels of the Hough grid\n",
    "theta = np.pi/180 # angular resolution in radians of the Hough grid\n",
    "threshold = 1     # minimum number of votes (intersections in Hough grid cell)\n",
    "min_line_length = 5 #minimum number of pixels making up a line\n",
    "max_line_gap = 1    # maximum gap in pixels between connectable line segments\n",
    "\n",
    "houghAction = lambda img: hough_lines(img, rho, theta, threshold, min_line_length, max_line_gap)\n",
    "\n",
    "testImagesLines = doSaveAndDisplay(testImagesMasked, 'test_images_hough', testImageNames, houghAction)\n"
   ]
  },
  {
   "cell_type": "markdown",
   "metadata": {
    "deletable": true,
    "editable": true
   },
   "source": [
    "# Merging original image with lines"
   ]
  },
  {
   "cell_type": "code",
   "execution_count": 152,
   "metadata": {
    "collapsed": false,
    "deletable": true,
    "editable": true
   },
   "outputs": [
    {
     "data": {
      "text/html": [
       "<div><img src=\"test_images_merged/solidWhiteCurve.jpg?25842\" width=\"300\" height=\"110\" style=\"float:left; margin:1px\"/><img src=\"test_images_merged/solidWhiteRight.jpg?25842\" width=\"300\" height=\"110\" style=\"float:left; margin:1px\"/><img src=\"test_images_merged/solidYellowCurve.jpg?25842\" width=\"300\" height=\"110\" style=\"float:left; margin:1px\"/><img src=\"test_images_merged/solidYellowCurve2.jpg?25842\" width=\"300\" height=\"110\" style=\"float:left; margin:1px\"/><img src=\"test_images_merged/solidYellowLeft.jpg?25842\" width=\"300\" height=\"110\" style=\"float:left; margin:1px\"/><img src=\"test_images_merged/whiteCarLaneSwitch.jpg?25842\" width=\"300\" height=\"110\" style=\"float:left; margin:1px\"/></div>"
      ],
      "text/plain": [
       "<IPython.core.display.HTML object>"
      ]
     },
     "metadata": {},
     "output_type": "display_data"
    }
   ],
   "source": [
    "testImagesMergeTemp = list(map(lambda imgs: weighted_img(imgs[0], imgs[1]), zip(testImages,testImagesLines) ))\n",
    "testImagesMerged = doSaveAndDisplay(testImagesMergeTemp, 'test_images_merged', testImageNames, lambda img: img)"
   ]
  },
  {
   "cell_type": "code",
   "execution_count": null,
   "metadata": {
    "collapsed": false,
    "deletable": true,
    "editable": true
   },
   "outputs": [],
   "source": []
  },
  {
   "cell_type": "code",
   "execution_count": null,
   "metadata": {
    "collapsed": true,
    "deletable": true,
    "editable": true
   },
   "outputs": [],
   "source": []
  }
 ],
 "metadata": {
  "kernelspec": {
   "display_name": "Python 3",
   "language": "python",
   "name": "python3"
  },
  "language_info": {
   "codemirror_mode": {
    "name": "ipython",
    "version": 3
   },
   "file_extension": ".py",
   "mimetype": "text/x-python",
   "name": "python",
   "nbconvert_exporter": "python",
   "pygments_lexer": "ipython3",
   "version": "3.5.2"
  },
  "widgets": {
   "state": {},
   "version": "1.1.2"
  }
 },
 "nbformat": 4,
 "nbformat_minor": 2
}
